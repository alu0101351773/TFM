{
 "cells": [
  {
   "cell_type": "code",
   "execution_count": 14,
   "metadata": {},
   "outputs": [
    {
     "data": {
      "text/plain": [
       "(1000, 10)"
      ]
     },
     "metadata": {},
     "output_type": "display_data"
    },
    {
     "data": {
      "text/plain": [
       "Fugando combustible\n",
       "1    0.505\n",
       "0    0.495\n",
       "Name: proportion, dtype: float64"
      ]
     },
     "metadata": {},
     "output_type": "display_data"
    }
   ],
   "source": [
    "import pandas as pd\n",
    "\n",
    "a = pd.read_csv('./datos_simulacion.csv')\n",
    "\n",
    "display(a.shape)\n",
    "\n",
    "display(a['Fugando combustible'].value_counts(normalize=True))"
   ]
  },
  {
   "cell_type": "code",
   "execution_count": 17,
   "metadata": {},
   "outputs": [
    {
     "data": {
      "text/plain": [
       "1452960"
      ]
     },
     "metadata": {},
     "output_type": "display_data"
    },
    {
     "data": {
      "text/plain": [
       "1080"
      ]
     },
     "metadata": {},
     "output_type": "display_data"
    }
   ],
   "source": [
    "import toml\n",
    "\n",
    "data = toml.load('test_config.toml')\n",
    "\n",
    "STEP = 1440\n",
    "\n",
    "log_end = (data['simulation']['registers'] + 9) * STEP\n",
    "\n",
    "leak_time = int(log_end * data['tanks']['leak_percent'])\n",
    "\n",
    "display(log_end)\n",
    "\n",
    "display(leak_time)"
   ]
  },
  {
   "cell_type": "code",
   "execution_count": 4,
   "metadata": {},
   "outputs": [
    {
     "name": "stdout",
     "output_type": "stream",
     "text": [
      "datafile_75713589.csv\n"
     ]
    }
   ],
   "source": [
    "import random\n",
    "import string\n",
    "\n",
    "def generar_nombre_fichero(prefijo, longitud=4):\n",
    "    # Genera una cadena aleatoria de números con la longitud especificada\n",
    "    sufijo = ''.join(random.choices(string.digits, k=longitud))\n",
    "    # Concatena el prefijo y el sufijo\n",
    "    nombre_fichero = f\"{prefijo}{sufijo}.csv\"\n",
    "    return nombre_fichero\n",
    "\n",
    "# Ejemplo de uso\n",
    "prefijo = \"datafile_\"\n",
    "nombre_fichero = generar_nombre_fichero(prefijo, longitud=8)\n",
    "print(nombre_fichero)\n"
   ]
  }
 ],
 "metadata": {
  "kernelspec": {
   "display_name": "Python 3",
   "language": "python",
   "name": "python3"
  },
  "language_info": {
   "codemirror_mode": {
    "name": "ipython",
    "version": 3
   },
   "file_extension": ".py",
   "mimetype": "text/x-python",
   "name": "python",
   "nbconvert_exporter": "python",
   "pygments_lexer": "ipython3",
   "version": "3.11.5"
  }
 },
 "nbformat": 4,
 "nbformat_minor": 2
}
