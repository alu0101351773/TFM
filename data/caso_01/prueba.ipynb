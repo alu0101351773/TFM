import configparser

extracted = configparser.ConfigParser().read('sim_config.cfg')

display(extracted)